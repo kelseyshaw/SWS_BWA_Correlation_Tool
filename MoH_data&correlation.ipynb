{
 "cells": [
  {
   "cell_type": "markdown",
   "metadata": {},
   "source": [
    "Import Packages "
   ]
  },
  {
   "cell_type": "code",
   "execution_count": 7,
   "metadata": {
    "pycharm": {
     "name": "#%%\n"
    }
   },
   "outputs": [],
   "source": [
    "import pandas as pd\n",
    "import matplotlib.pyplot as plt\n",
    "import numpy as np"
   ]
  },
  {
   "cell_type": "markdown",
   "metadata": {},
   "source": [
    "File Managment "
   ]
  },
  {
   "cell_type": "code",
   "execution_count": 8,
   "metadata": {},
   "outputs": [],
   "source": [
    "# Enter the filename without the extension\n",
    "# The reorganized data will be saved as .csv files with the filename in the name\n",
    "# For the reorganized data it will be {filename}_reorganized.csv\n",
    "# For the correlation matrix it will be {filename}_correlation.csv\n",
    "filename = 'rawdata'\n",
    "filepath = filename + '.xlsx'  # This adds the Excel extension\n",
    "\n",
    "# Read the data into a Pandas dataframe\n",
    "data = pd.read_excel(filepath)\n",
    "\n"
   ]
  },
  {
   "cell_type": "markdown",
   "metadata": {},
   "source": [
    "Data Check #1"
   ]
  },
  {
   "cell_type": "code",
   "execution_count": 9,
   "metadata": {},
   "outputs": [
    {
     "data": {
      "text/html": [
       "<div>\n",
       "<style scoped>\n",
       "    .dataframe tbody tr th:only-of-type {\n",
       "        vertical-align: middle;\n",
       "    }\n",
       "\n",
       "    .dataframe tbody tr th {\n",
       "        vertical-align: top;\n",
       "    }\n",
       "\n",
       "    .dataframe thead th {\n",
       "        text-align: right;\n",
       "    }\n",
       "</style>\n",
       "<table border=\"1\" class=\"dataframe\">\n",
       "  <thead>\n",
       "    <tr style=\"text-align: right;\">\n",
       "      <th></th>\n",
       "      <th>Facility Name</th>\n",
       "      <th>Municipality</th>\n",
       "      <th>BWA</th>\n",
       "      <th>BWA Periods</th>\n",
       "      <th>BWA Days</th>\n",
       "      <th>Unknown</th>\n",
       "      <th>Wind</th>\n",
       "      <th>Flooding</th>\n",
       "      <th>Break</th>\n",
       "      <th>Repairs</th>\n",
       "      <th>...</th>\n",
       "      <th># Samples / month</th>\n",
       "      <th>Parameters Tested</th>\n",
       "      <th>Classified</th>\n",
       "      <th>Year Classified</th>\n",
       "      <th>SWS</th>\n",
       "      <th>Higher</th>\n",
       "      <th>Certified Operator</th>\n",
       "      <th># Operators</th>\n",
       "      <th>Male</th>\n",
       "      <th>Female</th>\n",
       "    </tr>\n",
       "  </thead>\n",
       "  <tbody>\n",
       "    <tr>\n",
       "      <td>0</td>\n",
       "      <td>Beddis</td>\n",
       "      <td>CRD</td>\n",
       "      <td>1</td>\n",
       "      <td>3</td>\n",
       "      <td>16</td>\n",
       "      <td>0</td>\n",
       "      <td>2</td>\n",
       "      <td>0</td>\n",
       "      <td>1</td>\n",
       "      <td>0</td>\n",
       "      <td>...</td>\n",
       "      <td>921</td>\n",
       "      <td>13</td>\n",
       "      <td>1.0</td>\n",
       "      <td>2007.0</td>\n",
       "      <td>1.0</td>\n",
       "      <td>0.0</td>\n",
       "      <td>1.0</td>\n",
       "      <td>3.0</td>\n",
       "      <td>3.0</td>\n",
       "      <td>0.0</td>\n",
       "    </tr>\n",
       "    <tr>\n",
       "      <td>1</td>\n",
       "      <td>Cedar Lane</td>\n",
       "      <td>CRD</td>\n",
       "      <td>1</td>\n",
       "      <td>1</td>\n",
       "      <td>1</td>\n",
       "      <td>1</td>\n",
       "      <td>0</td>\n",
       "      <td>0</td>\n",
       "      <td>0</td>\n",
       "      <td>0</td>\n",
       "      <td>...</td>\n",
       "      <td>588</td>\n",
       "      <td>8</td>\n",
       "      <td>1.0</td>\n",
       "      <td>2005.0</td>\n",
       "      <td>1.0</td>\n",
       "      <td>0.0</td>\n",
       "      <td>1.0</td>\n",
       "      <td>3.0</td>\n",
       "      <td>3.0</td>\n",
       "      <td>0.0</td>\n",
       "    </tr>\n",
       "    <tr>\n",
       "      <td>2</td>\n",
       "      <td>Cedars of Tuam</td>\n",
       "      <td>CRD</td>\n",
       "      <td>0</td>\n",
       "      <td>0</td>\n",
       "      <td>0</td>\n",
       "      <td>0</td>\n",
       "      <td>0</td>\n",
       "      <td>0</td>\n",
       "      <td>0</td>\n",
       "      <td>0</td>\n",
       "      <td>...</td>\n",
       "      <td>574</td>\n",
       "      <td>8</td>\n",
       "      <td>1.0</td>\n",
       "      <td>2011.0</td>\n",
       "      <td>1.0</td>\n",
       "      <td>0.0</td>\n",
       "      <td>1.0</td>\n",
       "      <td>2.0</td>\n",
       "      <td>2.0</td>\n",
       "      <td>0.0</td>\n",
       "    </tr>\n",
       "    <tr>\n",
       "      <td>3</td>\n",
       "      <td>Fulford</td>\n",
       "      <td>CRD</td>\n",
       "      <td>1</td>\n",
       "      <td>1</td>\n",
       "      <td>6</td>\n",
       "      <td>0</td>\n",
       "      <td>0</td>\n",
       "      <td>0</td>\n",
       "      <td>1</td>\n",
       "      <td>0</td>\n",
       "      <td>...</td>\n",
       "      <td>648</td>\n",
       "      <td>13</td>\n",
       "      <td>1.0</td>\n",
       "      <td>2007.0</td>\n",
       "      <td>1.0</td>\n",
       "      <td>0.0</td>\n",
       "      <td>1.0</td>\n",
       "      <td>3.0</td>\n",
       "      <td>3.0</td>\n",
       "      <td>0.0</td>\n",
       "    </tr>\n",
       "    <tr>\n",
       "      <td>4</td>\n",
       "      <td>H/F</td>\n",
       "      <td>CRD</td>\n",
       "      <td>1</td>\n",
       "      <td>12</td>\n",
       "      <td>53</td>\n",
       "      <td>0</td>\n",
       "      <td>2</td>\n",
       "      <td>0</td>\n",
       "      <td>8</td>\n",
       "      <td>1</td>\n",
       "      <td>...</td>\n",
       "      <td>1239</td>\n",
       "      <td>12</td>\n",
       "      <td>1.0</td>\n",
       "      <td>1993.0</td>\n",
       "      <td>0.0</td>\n",
       "      <td>1.0</td>\n",
       "      <td>1.0</td>\n",
       "      <td>2.0</td>\n",
       "      <td>2.0</td>\n",
       "      <td>0.0</td>\n",
       "    </tr>\n",
       "  </tbody>\n",
       "</table>\n",
       "<p>5 rows × 38 columns</p>\n",
       "</div>"
      ],
      "text/plain": [
       "   Facility Name  Municipality   BWA  BWA Periods  BWA Days  Unknown  Wind  \\\n",
       "0          Beddis           CRD    1            3        16        0     2   \n",
       "1      Cedar Lane           CRD    1            1         1        1     0   \n",
       "2  Cedars of Tuam           CRD    0            0         0        0     0   \n",
       "3         Fulford           CRD    1            1         6        0     0   \n",
       "4             H/F           CRD    1           12        53        0     2   \n",
       "\n",
       "   Flooding  Break  Repairs  ...  # Samples / month  Parameters Tested  \\\n",
       "0         0      1        0  ...                921                 13   \n",
       "1         0      0        0  ...                588                  8   \n",
       "2         0      0        0  ...                574                  8   \n",
       "3         0      1        0  ...                648                 13   \n",
       "4         0      8        1  ...               1239                 12   \n",
       "\n",
       "   Classified   Year Classified  SWS  Higher  Certified Operator  # Operators  \\\n",
       "0          1.0           2007.0  1.0     0.0                 1.0          3.0   \n",
       "1          1.0           2005.0  1.0     0.0                 1.0          3.0   \n",
       "2          1.0           2011.0  1.0     0.0                 1.0          2.0   \n",
       "3          1.0           2007.0  1.0     0.0                 1.0          3.0   \n",
       "4          1.0           1993.0  0.0     1.0                 1.0          2.0   \n",
       "\n",
       "   Male  Female  \n",
       "0   3.0     0.0  \n",
       "1   3.0     0.0  \n",
       "2   2.0     0.0  \n",
       "3   3.0     0.0  \n",
       "4   2.0     0.0  \n",
       "\n",
       "[5 rows x 38 columns]"
      ]
     },
     "execution_count": 9,
     "metadata": {},
     "output_type": "execute_result"
    }
   ],
   "source": [
    "# Display the first five rows of the data for a check\n",
    "data.head(n=5)\n"
   ]
  },
  {
   "cell_type": "markdown",
   "metadata": {},
   "source": [
    "Data Check #2"
   ]
  },
  {
   "cell_type": "code",
   "execution_count": 10,
   "metadata": {},
   "outputs": [
    {
     "name": "stdout",
     "output_type": "stream",
     "text": [
      "<class 'pandas.core.frame.DataFrame'>\n",
      "RangeIndex: 32 entries, 0 to 31\n",
      "Data columns (total 38 columns):\n",
      "Facility Name         32 non-null object\n",
      "Municipality          32 non-null object\n",
      "BWA                   32 non-null int64\n",
      "BWA Periods           32 non-null int64\n",
      "BWA Days              32 non-null int64\n",
      "Unknown               32 non-null int64\n",
      "Wind                  32 non-null int64\n",
      "Flooding              32 non-null int64\n",
      "Break                 32 non-null int64\n",
      "Repairs               32 non-null int64\n",
      "Ecoli                 32 non-null int64\n",
      "TC                    32 non-null int64\n",
      "Turb                  32 non-null int64\n",
      "Connections           32 non-null int64\n",
      "Residential           32 non-null int64\n",
      "Institutional         32 non-null int64\n",
      "Commercial            32 non-null int64\n",
      "Surface               32 non-null int64\n",
      "Ground                32 non-null int64\n",
      "Infastructure Age     31 non-null float64\n",
      "Sedimentation         32 non-null int64\n",
      "Filtration            32 non-null int64\n",
      "UV                    32 non-null int64\n",
      "Cl                    32 non-null int64\n",
      "Ozone                 32 non-null int64\n",
      "Storage               32 non-null int64\n",
      "Other                 32 non-null int64\n",
      "Total no steps        32 non-null int64\n",
      "# Samples / month     32 non-null int64\n",
      "Parameters Tested     32 non-null int64\n",
      "Classified            12 non-null float64\n",
      "Year Classified       12 non-null float64\n",
      "SWS                   12 non-null float64\n",
      "Higher                12 non-null float64\n",
      "Certified Operator    12 non-null float64\n",
      "# Operators           12 non-null float64\n",
      "Male                  12 non-null float64\n",
      "Female                12 non-null float64\n",
      "dtypes: float64(9), int64(27), object(2)\n",
      "memory usage: 9.6+ KB\n"
     ]
    }
   ],
   "source": [
    "# Display the column info to check to see how many rows of data you have and if there are any nan values\n",
    "data.info()"
   ]
  },
  {
   "cell_type": "markdown",
   "metadata": {},
   "source": [
    "Correlation Matrix"
   ]
  },
  {
   "cell_type": "code",
   "execution_count": 11,
   "metadata": {
    "pycharm": {
     "name": "#%%\n"
    }
   },
   "outputs": [],
   "source": [
    "# Calculate the correlation matrix\n",
    "correlation_matrix = data.corr()\n",
    "\n",
    "# Save the correlation matrix\n",
    "correlation_matrix.to_csv(f'{filename}_correlation.csv')"
   ]
  },
  {
   "cell_type": "markdown",
   "metadata": {},
   "source": [
    "Plot Parameters "
   ]
  },
  {
   "cell_type": "code",
   "execution_count": 14,
   "metadata": {
    "pycharm": {
     "name": "#%%\n"
    }
   },
   "outputs": [
    {
     "data": {
      "image/png": "[encoded data removed]",
      "text/plain": [
       "<Figure size 576x432 with 1 Axes>"
      ]
     },
     "metadata": {},
     "output_type": "display_data"
    }
   ],
   "source": [
    "import matplotlib.pyplot as plt\n",
    "import seaborn as sns\n",
    "\n",
    "# Take two of the parameters and plot the scatter plot and display the Pearson's correlation coefficient\n",
    "\n",
    "# Enter the parameters as they appear in the original data\n",
    "param1 = 'BWA'\n",
    "param2 = 'Total no steps'\n",
    "\n",
    "# Get the data points for the two parameters\n",
    "vals1 = data[param1].values\n",
    "vals2 = data[param2].values\n",
    "\n",
    "# Set nan vals to negative 10000, so they won't show up in our plot (We limit the plot to 0-1, 0-1)\n",
    "# Also the correlation coefficient we'll pull directly from the correlation matrix\n",
    "# This is a dirty reach-around\n",
    "vals1[np.isnan(vals1)] = -10000\n",
    "vals2[np.isnan(vals2)] = -10000\n",
    "\n",
    "# Find the indices corresponding to the two parameters to find the correlation coefficient in the correlation matrix\n",
    "param_names = correlation_matrix.columns\n",
    "corr_matrix = correlation_matrix.values\n",
    "param1_idx = np.squeeze(np.argwhere(param_names == param1))\n",
    "param2_idx = np.squeeze(np.argwhere(param_names == param2))\n",
    "correlation_value = corr_matrix[param1_idx, param2_idx]\n",
    "\n",
    "sns.set_style('whitegrid')\n",
    "fig = plt.figure(figsize=(8, 6))\n",
    "plt.scatter(vals1, vals2)\n",
    "plt.xlabel(param1, fontsize=16)\n",
    "plt.ylabel(param2, fontsize=16)\n",
    "plt.title(f'Correlation coefficient = {correlation_value:0.6f}', fontsize=16)\n",
    "plt.tick_params(labelsize=15)\n",
    "# plt.xlim((-0.1, 1.1))\n",
    "# plt.ylim((-0.1, 1.1))\n",
    "plt.show()"
   ]
  },
  {
   "cell_type": "code",
   "execution_count": null,
   "metadata": {},
   "outputs": [],
   "source": []
  },
  {
   "cell_type": "code",
   "execution_count": null,
   "metadata": {},
   "outputs": [],
   "source": []
  }
 ],
 "metadata": {
  "kernelspec": {
   "display_name": "Python 3",
   "language": "python",
   "name": "python3"
  },
  "language_info": {
   "codemirror_mode": {
    "name": "ipython",
    "version": 3
   },
   "file_extension": ".py",
   "mimetype": "text/x-python",
   "name": "python",
   "nbconvert_exporter": "python",
   "pygments_lexer": "ipython3",
   "version": "3.7.4"
  }
 },
 "nbformat": 4,
 "nbformat_minor": 1
}
